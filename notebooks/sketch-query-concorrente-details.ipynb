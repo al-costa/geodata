{
 "cells": [
  {
   "cell_type": "markdown",
   "metadata": {},
   "source": [
    "# Rascunho da implementação de detalhes do estabelecimento (REST)\n",
    "*autor: André Costa (2019-03-09)* [https://www.linkedin.com/in/a-l-costa]\n"
   ]
  },
  {
   "cell_type": "code",
   "execution_count": 19,
   "metadata": {},
   "outputs": [
    {
     "name": "stdout",
     "output_type": "stream",
     "text": [
      "['id', 'codigo', 'nome', 'endereco', 'faixa_preco', 'bairro', 'populacao', 'dens_demo'] \n",
      " [-103634676 1710100459278383 'RT CHOPP & CIA'\n",
      " 'Avenida Arymana, 954, 13056-440 Campinas' 1 'Ouro Verde' 141490\n",
      " 4786.3740234375]\n"
     ]
    }
   ],
   "source": [
    "spark.sql('use geodata')\n",
    "\n",
    "c_id = -103634676\n",
    "\n",
    "concProfile = spark.sql('select a.id, a.codigo, a.nome, a.endereco, a.faixa_preco, \\\n",
    "    b.nome as bairro, b.populacao, b.dens_demo FROM concorrente as a INNER join bairro as b \\\n",
    "    ON a.id={} and a.bairro_id=b.codigo and isnull(b.end_date)'.format(c_id))\n",
    "profile_data = concProfile.toPandas()\n",
    "H1 = list(profile_data)\n",
    "R1 = profile_data.values[0]\n",
    "print(H1, '\\n', R1)"
   ]
  },
  {
   "cell_type": "code",
   "execution_count": 20,
   "metadata": {},
   "outputs": [
    {
     "name": "stdout",
     "output_type": "stream",
     "text": [
      "['dom_manha' 'dom_tarde' 'dom_noite' 'seg_manha' 'seg_tarde' 'seg_noite'\n",
      " 'ter_manha' 'ter_tarde' 'ter_noite' 'qua_manha' 'qua_tarde' 'qui_manha'\n",
      " 'qui_tarde' 'qui_noite' 'sex_manha' 'sex_tarde' 'sex_noite' 'sab_manha'\n",
      " 'sab_tarde' 'sab_noite'] \n",
      " [2.3333333333333335 5.333333333333333 5.0 5.0 1.5 1.0 1.0 1.5 1.0 1.0 6.0\n",
      " 3.0 6.0 1.6666666666666667 1.0 1.75 1.0 3.3333333333333335 4.5\n",
      " 1.6666666666666667]\n"
     ]
    }
   ],
   "source": [
    "from pyspark.sql.types import *\n",
    "from pyspark.sql.functions import UserDefinedFunction\n",
    "import pandas as pd\n",
    "import numpy as np\n",
    "\n",
    "week_day = {0: 'dom', 1: 'seg', 2: 'ter', 3: 'qua', 4: 'qui', 5: 'sex', 6: 'sab'}\n",
    "\n",
    "periodo = {0: 'manha', 1: 'tarde', 2: 'noite'}\n",
    "\n",
    "def name_segments(day,p):\n",
    "    return '_'.join([week_day[day], periodo[p]])\n",
    "\n",
    "map_name_segments = UserDefinedFunction(name_segments, StringType())\n",
    "\n",
    "fluxo = spark.sql('select AVG(a.ocorrencias) as fluxo_medio, b.dia_semana, b.periodo \\\n",
    "    FROM fluxo as a INNER join calendario as b \\\n",
    "    ON a.calendario_id=b.id WHERE concorrente_id={} group by b.dia_semana, b.periodo \\\n",
    "    order by b.dia_semana, b.periodo'.format(c_id))\n",
    "\n",
    "fluxo = fluxo.withColumn('seg', map_name_segments(fluxo.dia_semana, fluxo.periodo)) \\\n",
    "    .drop('dia_semana', 'periodo')\n",
    "\n",
    "fluxo_data = fluxo.toPandas().values.transpose()\n",
    "H2 = fluxo_data[1].ravel()\n",
    "R2 = fluxo_data[0].ravel()\n",
    "print(H2, '\\n', R2)"
   ]
  },
  {
   "cell_type": "code",
   "execution_count": 28,
   "metadata": {},
   "outputs": [
    {
     "name": "stdout",
     "output_type": "stream",
     "text": [
      "id,codigo,nome,endereco,faixa_preco,bairro,populacao,dens_demo,dom_manha,dom_tarde,dom_noite,seg_manha,seg_tarde,seg_noite,ter_manha,ter_tarde,ter_noite,qua_manha,qua_tarde,qui_manha,qui_tarde,qui_noite,sex_manha,sex_tarde,sex_noite,sab_manha,sab_tarde,sab_noite\n",
      "-103634676,1710100459278383,RT CHOPP & CIA,Avenida Arymana, 954, 13056-440 Campinas,1,Ouro Verde,141490,4786.3740234375,2.3333333333333335,5.333333333333333,5.0,5.0,1.5,1.0,1.0,1.5,1.0,1.0,6.0,3.0,6.0,1.6666666666666667,1.0,1.75,1.0,3.3333333333333335,4.5,1.6666666666666667\n"
     ]
    }
   ],
   "source": [
    "H = ','.join(np.hstack((H1, H2)))\n",
    "R = ','.join([str(x) for x in np.hstack((R1, R2))])\n",
    "final_record = '\\n'.join([H, R])\n",
    "print(final_record)"
   ]
  }
 ],
 "metadata": {
  "kernelspec": {
   "display_name": "Python 3",
   "language": "python",
   "name": "python3"
  },
  "language_info": {
   "codemirror_mode": {
    "name": "ipython",
    "version": 3
   },
   "file_extension": ".py",
   "mimetype": "text/x-python",
   "name": "python",
   "nbconvert_exporter": "python",
   "pygments_lexer": "ipython3",
   "version": "3.6.7"
  }
 },
 "nbformat": 4,
 "nbformat_minor": 2
}
